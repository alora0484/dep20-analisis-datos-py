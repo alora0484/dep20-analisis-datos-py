{
 "cells": [
  {
   "cell_type": "code",
   "execution_count": 3,
   "id": "fe0b1dfc-641c-48cc-97aa-c40502e2d59e",
   "metadata": {},
   "outputs": [
    {
     "name": "stdout",
     "output_type": "stream",
     "text": [
      "holaaaaas\n"
     ]
    }
   ],
   "source": [
    "# identacion\n",
    "print('holaaaaas')"
   ]
  },
  {
   "cell_type": "code",
   "execution_count": 8,
   "id": "2c2c9691-1cde-4d9b-92a9-6e609605c637",
   "metadata": {},
   "outputs": [
    {
     "name": "stdout",
     "output_type": "stream",
     "text": [
      "verdadero\n"
     ]
    }
   ],
   "source": [
    "variable = 5\n",
    "if variable ==5:\n",
    "    print('verdadero')\n",
    "else:\n",
    "    print('false')"
   ]
  }
 ],
 "metadata": {
  "kernelspec": {
   "display_name": "Python 3 (ipykernel)",
   "language": "python",
   "name": "python3"
  },
  "language_info": {
   "codemirror_mode": {
    "name": "ipython",
    "version": 3
   },
   "file_extension": ".py",
   "mimetype": "text/x-python",
   "name": "python",
   "nbconvert_exporter": "python",
   "pygments_lexer": "ipython3",
   "version": "3.9.19"
  }
 },
 "nbformat": 4,
 "nbformat_minor": 5
}
